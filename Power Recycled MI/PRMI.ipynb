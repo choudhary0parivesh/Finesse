{
 "metadata": {
  "language_info": {
   "codemirror_mode": {
    "name": "ipython",
    "version": 3
   },
   "file_extension": ".py",
   "mimetype": "text/x-python",
   "name": "python",
   "nbconvert_exporter": "python",
   "pygments_lexer": "ipython3",
   "version": 3
  },
  "orig_nbformat": 2
 },
 "nbformat": 4,
 "nbformat_minor": 2,
 "cells": [
  {
   "cell_type": "code",
   "execution_count": null,
   "metadata": {},
   "outputs": [],
   "source": [
    "from pykat import finesse        \n",
    "from pykat.commands import *    \n",
    "import numpy as np               \n",
    "import matplotlib.pyplot as plt  \n",
    "\n",
    "base = finesse.kat()\n",
    "base.verbose = False\n",
    "\n",
    "################ core optics#######################\n",
    "\n",
    "basecode = \"\"\"\n",
    "                    l laser1 1.0 0 n1    #laser 1 watt\n",
    "                    s s1 0 n1 n2         #cavity between laser and modulator\n",
    "                    s s_mod n2 n3        # add modulator here\n",
    "                    \n",
    "                    m PRM 1 0 0 n3 n4    #recycling mirror\n",
    "                    \n",
    "                    bs bs1 0.5 0.5 0 45 n4 n5 n6 n7      #beam spplitter\n",
    "                    \n",
    "                    ##########y arm########\n",
    "                    s s2 1 n5 n6         #cavity between BS and input RM\n",
    "                    m ITMy 1 0 0 n6 n7   #input mirror\n",
    "                    s scy 1 n7 n8        #cavity between mirror and end mirror\n",
    "                    m ETMy 1 0 n8 n9     #end mirror\n",
    "                    \n",
    "                    \n",
    "                    ##########x arm########\n",
    "                    s s3 n6 n10          #cavity between BS and input RM\n",
    "                    m ITMx 1 0 n11 n12   #input mirror\n",
    "                    s scx 1 n13 n14      #cavity between mirror and end mirror\n",
    "                    m ETMx 1 0 0 n15 n16 #end mirror\n",
    "\n",
    "                    pd pow_out n7        #photo detector            \n",
    "\n",
    "\n",
    "\"\"\"\n",
    "\n",
    "base.parse(basecode)"
   ]
  }
 ]
}